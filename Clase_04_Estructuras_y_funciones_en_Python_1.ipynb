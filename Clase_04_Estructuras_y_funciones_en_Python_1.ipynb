{
 "cells": [
  {
   "cell_type": "markdown",
   "id": "informative-camping",
   "metadata": {
    "id": "informative-camping"
   },
   "source": [
    "# CLASE 4 - Estructuras y funciones en Python\n",
    "### Coderhouse - Data Science\n",
    "Profe Jorge Ruiz"
   ]
  },
  {
   "cell_type": "code",
   "execution_count": 3,
   "id": "MZaoQptGbZtn",
   "metadata": {
    "colab": {
     "base_uri": "https://localhost:8080/"
    },
    "id": "MZaoQptGbZtn",
    "outputId": "07e06a91-78c5-40b9-a0e4-324d27c34422"
   },
   "outputs": [],
   "source": [
    "x= int(input(\"Introduzca la edad de Juan: \"))\n",
    "y= int(input(\"Introduzca la edad de Maria: \"))"
   ]
  },
  {
   "cell_type": "code",
   "execution_count": null,
   "id": "EZHcV4Gib9_0",
   "metadata": {
    "colab": {
     "base_uri": "https://localhost:8080/"
    },
    "id": "EZHcV4Gib9_0",
    "outputId": "528d5839-2f08-45af-c424-f470dec4458d"
   },
   "outputs": [],
   "source": [
    "suma_edades=x+y\n",
    "suma_edades"
   ]
  },
  {
   "cell_type": "markdown",
   "id": "cheap-stress",
   "metadata": {
    "id": "cheap-stress"
   },
   "source": [
    "## FOR"
   ]
  },
  {
   "cell_type": "markdown",
   "id": "approved-millennium",
   "metadata": {
    "id": "approved-millennium"
   },
   "source": [
    "*Veamos como funciona en detalle con un ejemplo:*<br>\n",
    "\n",
    "<code>for i in [2, 4, 6, 8]:\n",
    "    print(i + 1)</code>\n",
    "\n",
    "Se ejecuta tantas veces como el tamaño de la lista:<br>\n",
    "> [2, 4, 6, 8] en este caso 4<br>\n",
    "\n",
    "iteración 1 (repetición):<br>\n",
    "i = 2 <br>\n",
    "i + 1 = 3 <br>\n",
    "> print(3)\n",
    "\n",
    "iteración 2 (repetición):<br>\n",
    "i = 4 <br>\n",
    "i + 1 = 5 <br>\n",
    "> print(5)\n",
    "\n",
    "iteración 3 (repetición):<br>\n",
    "i = 6 <br>\n",
    "i + 1 = 7 <br>\n",
    "> print(7)\n",
    "\n",
    "iteración 4 (repetición):<br>\n",
    "i = 8 <br>\n",
    "i + 1 = 9 <br>\n",
    "> print(9)"
   ]
  },
  {
   "cell_type": "code",
   "execution_count": null,
   "id": "collected-minute",
   "metadata": {
    "colab": {
     "base_uri": "https://localhost:8080/"
    },
    "id": "collected-minute",
    "outputId": "4f2414a3-b831-4813-ae21-79bf887f7509"
   },
   "outputs": [],
   "source": [
    "for i in [2, 4, 6, 8]:\n",
    "    print(i + 1)"
   ]
  },
  {
   "cell_type": "code",
   "execution_count": 10,
   "id": "_ThexBaiew5d",
   "metadata": {
    "id": "_ThexBaiew5d"
   },
   "outputs": [],
   "source": [
    "# este metodo nos permite saver el total de elementos en una lista len()"
   ]
  },
  {
   "cell_type": "code",
   "execution_count": null,
   "id": "Mq9RR0mde2i1",
   "metadata": {
    "colab": {
     "base_uri": "https://localhost:8080/"
    },
    "id": "Mq9RR0mde2i1",
    "outputId": "b3c3e8da-20bf-4815-ec22-0a83ef563f5b"
   },
   "outputs": [],
   "source": [
    "len(lista_1)"
   ]
  },
  {
   "cell_type": "code",
   "execution_count": null,
   "id": "jgmgR_e5eiAc",
   "metadata": {
    "colab": {
     "base_uri": "https://localhost:8080/"
    },
    "id": "jgmgR_e5eiAc",
    "outputId": "ca98f7f5-e63c-4701-d1d1-b2643d3541c3"
   },
   "outputs": [],
   "source": [
    "for i in range(len(lista_1)):\n",
    "    print (i)"
   ]
  },
  {
   "cell_type": "code",
   "execution_count": null,
   "id": "oriental-vermont",
   "metadata": {
    "colab": {
     "base_uri": "https://localhost:8080/"
    },
    "id": "oriental-vermont",
    "outputId": "5d86bd6d-5bf3-4ebb-bca2-8a654bfa481d"
   },
   "outputs": [],
   "source": [
    "x = [1, 4, 6, 2, \"hola\"] # Apuntando a una lista\n",
    "\n",
    "for i in x:# inicio\n",
    "    print(i)\n",
    "    print(\"final\")"
   ]
  },
  {
   "cell_type": "code",
   "execution_count": null,
   "id": "illegal-drawing",
   "metadata": {
    "colab": {
     "base_uri": "https://localhost:8080/"
    },
    "id": "illegal-drawing",
    "outputId": "cd18dc94-610c-4c50-d1cf-a7a9f007ab6d"
   },
   "outputs": [],
   "source": [
    "x = [1, 4, 6, 2, \"hola\"] # Apuntando a una lista\n",
    "\n",
    "for i in x:# inicio\n",
    "    print(i)\n",
    "print(\"final\")"
   ]
  },
  {
   "cell_type": "code",
   "execution_count": null,
   "id": "alpha-requirement",
   "metadata": {
    "colab": {
     "base_uri": "https://localhost:8080/"
    },
    "id": "alpha-requirement",
    "outputId": "0e2708ae-6fd8-49f0-8112-2218e1bb5649"
   },
   "outputs": [],
   "source": [
    "for i in [1,4,6,2]:\n",
    "    print(i) # SIN INDENTACIÓN"
   ]
  },
  {
   "cell_type": "markdown",
   "id": "indian-routine",
   "metadata": {
    "id": "indian-routine"
   },
   "source": [
    "#### A TENER EN CUENTA\n",
    "Python utiliza la ***indentación*** para delimitar la estructura permitiendo establecer bloques de\n",
    "código. No existen comandos para finalizar las líneas ni llaves con las que delimitar el código.<br>\n",
    "\n",
    "> Los únicos delimitadores existentes son los dos puntos ( : ) y la indentación del código.<br>\n",
    "\n",
    "Para indentar utilizamos el botón TAB"
   ]
  },
  {
   "cell_type": "markdown",
   "id": "regulation-thousand",
   "metadata": {
    "id": "regulation-thousand"
   },
   "source": [
    "***Función range***<br>\n",
    "Puede tener hasta 3 componentes: <br>\n",
    "<code>range(inicio, fin, paso)</code> <br>\n",
    "inicio esta incluido en la serie y fin no esta incluido<br>\n",
    "Veamos algunos ejemplos:"
   ]
  },
  {
   "cell_type": "code",
   "execution_count": null,
   "id": "lined-necessity",
   "metadata": {
    "colab": {
     "base_uri": "https://localhost:8080/"
    },
    "id": "lined-necessity",
    "outputId": "bd514950-a38f-47f4-dddc-96e8d2253b5b"
   },
   "outputs": [],
   "source": [
    "list(range(5))"
   ]
  },
  {
   "cell_type": "code",
   "execution_count": null,
   "id": "senior-layout",
   "metadata": {
    "colab": {
     "base_uri": "https://localhost:8080/"
    },
    "id": "senior-layout",
    "outputId": "9868a8e9-c5ed-4f15-f7d2-5b3b789db693"
   },
   "outputs": [],
   "source": [
    "for i in range(5):\n",
    "    print(i)"
   ]
  },
  {
   "cell_type": "code",
   "execution_count": null,
   "id": "informed-boating",
   "metadata": {
    "colab": {
     "base_uri": "https://localhost:8080/"
    },
    "id": "informed-boating",
    "outputId": "aec55824-dcb2-4969-8ca0-5f692cafebb6",
    "scrolled": true
   },
   "outputs": [],
   "source": [
    "for i in range(1, 5):\n",
    "    print(i)"
   ]
  },
  {
   "cell_type": "code",
   "execution_count": null,
   "id": "cloudy-night",
   "metadata": {
    "colab": {
     "base_uri": "https://localhost:8080/"
    },
    "id": "cloudy-night",
    "outputId": "57475f42-6157-4613-83fa-b6eaa288e389"
   },
   "outputs": [],
   "source": [
    "for i in range(1, 10, 2):\n",
    "    print(i)"
   ]
  },
  {
   "cell_type": "code",
   "execution_count": null,
   "id": "completed-morris",
   "metadata": {
    "colab": {
     "base_uri": "https://localhost:8080/"
    },
    "id": "completed-morris",
    "outputId": "04382df2-109c-4d63-a062-b66c66c2cfb6"
   },
   "outputs": [],
   "source": [
    "for i in range(2, 10, 2):\n",
    "    print(i)"
   ]
  },
  {
   "cell_type": "markdown",
   "id": "viral-cheat",
   "metadata": {
    "id": "viral-cheat"
   },
   "source": [
    "## WHILE"
   ]
  },
  {
   "cell_type": "markdown",
   "id": "iraqi-stylus",
   "metadata": {
    "id": "iraqi-stylus"
   },
   "source": [
    "*Veamos como funciona en detalle con un ejemplo:*<br>\n",
    "\n",
    "<code>i = 1\n",
    "while i < 4:    \n",
    "    print(i)    \n",
    "    i += 1 </code>\n",
    "\n",
    "Se ejecuta hasta que se cumpla un criterio:<br>\n",
    "> en este caso *i < 4*<br>\n",
    "\n",
    "iteración 1 (repetición):<br>\n",
    "i = 1 <br>\n",
    "> print(1)<br>\n",
    "\n",
    "i += 1  --> i = i + 1 OPERACIÓN DE ASIGNACIÓN <br>\n",
    "\n",
    "iteración 2 (repetición):<br>\n",
    "i = 2 <br>\n",
    "> print(2)<br>\n",
    "\n",
    "i += 1  --> i = i + 1 <br>\n",
    "\n",
    "iteración 3 (repetición):<br>\n",
    "i = 3 <br>\n",
    "> print(3)<br>\n",
    "\n",
    "i += 1  --> i = i + 1 OPERACIÓN DE ASIGNACIÓN <br>"
   ]
  },
  {
   "cell_type": "code",
   "execution_count": null,
   "id": "civil-sword",
   "metadata": {
    "colab": {
     "base_uri": "https://localhost:8080/"
    },
    "id": "civil-sword",
    "outputId": "a62e705e-0f7c-424d-beb9-5aee08b211dd"
   },
   "outputs": [],
   "source": [
    "i = 1\n",
    "while i != 4:    # mientras i es menor a 4 ejecute\n",
    "    print(i)    # imprimir i\n",
    "    i += 1      # operación de asignación (i = i + 1)"
   ]
  },
  {
   "cell_type": "code",
   "execution_count": null,
   "id": "retired-circle",
   "metadata": {
    "colab": {
     "base_uri": "https://localhost:8080/"
    },
    "id": "retired-circle",
    "outputId": "c2f6e612-0d70-4533-c5f1-2e6fe6fd2a90"
   },
   "outputs": [],
   "source": [
    "i = 10\n",
    "while i != 0:    # mientras i es menor a 4 ejecute\n",
    "    print(i)    # imprimir i\n",
    "    i -= 2"
   ]
  },
  {
   "cell_type": "markdown",
   "id": "antique-turner",
   "metadata": {
    "id": "antique-turner"
   },
   "source": [
    "### CUIDADO!!"
   ]
  },
  {
   "cell_type": "markdown",
   "id": "coral-dealer",
   "metadata": {
    "id": "coral-dealer"
   },
   "source": [
    "Validar que el algoritmo se pueda salir del loop"
   ]
  },
  {
   "cell_type": "code",
   "execution_count": null,
   "id": "4N34iW_BwqMY",
   "metadata": {
    "id": "4N34iW_BwqMY"
   },
   "outputs": [],
   "source": [
    "i = 0\n",
    "while i < 5:\n",
    "    print(i)\n",
    "\n",
    "\"\"\"\n",
    "En este ejemplo, la condición de salida es i < 5, pero la variable i nunca se actualiza dentro del ciclo.\n",
    "Por lo tanto, este ciclo imprimirá el valor de i repetidamente hasta que se interrumpa manualmente.\n",
    "\n",
    "Para evitar ciclos while infinitos, siempre debemos asegurarnos de que la condición de salida se pueda cumplir en algún momento y\n",
    "que la variable de control se actualice adecuadamente dentro del ciclo.\n",
    "\"\"\""
   ]
  },
  {
   "cell_type": "markdown",
   "id": "progressive-listening",
   "metadata": {
    "id": "progressive-listening"
   },
   "source": [
    "## IF"
   ]
  },
  {
   "cell_type": "markdown",
   "id": "dutch-bulletin",
   "metadata": {
    "id": "dutch-bulletin"
   },
   "source": [
    "Experimente con varios números"
   ]
  },
  {
   "cell_type": "code",
   "execution_count": null,
   "id": "former-paris",
   "metadata": {
    "colab": {
     "base_uri": "https://localhost:8080/"
    },
    "id": "former-paris",
    "outputId": "75197ad1-7533-41dc-dae3-cdf3eeca451e"
   },
   "outputs": [],
   "source": [
    "x = 10\n",
    "if x < 10:                       # Pregunto si x es menor a 10\n",
    "    print(x, \"es menor a 10\")   # Si es así muestro mensaje\n",
    "elif x > 10:                    # Si no es así, pregunto si x es mayor\n",
    "    print(x, \"es mayor a 10\")   # a 10 y si es así muestro mensaje\n",
    "else:                           # Si nada de lo anterior se\n",
    "    print(x, \"es 10\")           # cumple, ejecuto esto"
   ]
  },
  {
   "cell_type": "code",
   "execution_count": null,
   "id": "authorized-robinson",
   "metadata": {
    "colab": {
     "base_uri": "https://localhost:8080/"
    },
    "id": "authorized-robinson",
    "outputId": "bd224d4f-c5f0-44ef-920f-d3396f9c8f79"
   },
   "outputs": [],
   "source": [
    "# Se puede utilizar solo una condición\n",
    "x = 1\n",
    "if type(x) != str:\n",
    "    print(\"No es texto\")"
   ]
  },
  {
   "cell_type": "code",
   "execution_count": null,
   "id": "preceding-secretary",
   "metadata": {
    "colab": {
     "base_uri": "https://localhost:8080/"
    },
    "id": "preceding-secretary",
    "outputId": "b30524ff-457c-468b-dc9f-1ab090605167"
   },
   "outputs": [],
   "source": [
    "# Se puede utilizar solo una condición y la exclusión\n",
    "x = 15\n",
    "if x % 3 == 0:\n",
    "    print(\"x es multiplo de 3\")\n",
    "else:\n",
    "    print(\"x NO es multiplo de 3\")"
   ]
  },
  {
   "cell_type": "code",
   "execution_count": null,
   "id": "xrkW3lkF4PCe",
   "metadata": {
    "colab": {
     "base_uri": "https://localhost:8080/"
    },
    "id": "xrkW3lkF4PCe",
    "outputId": "5db7ae2a-92b7-44b5-d494-ef89ae325d29"
   },
   "outputs": [],
   "source": [
    "20 % 3 ==2\n",
    "# recordar que % es el resto de la división"
   ]
  },
  {
   "cell_type": "code",
   "execution_count": null,
   "id": "Dq29gbEpiPQq",
   "metadata": {
    "colab": {
     "base_uri": "https://localhost:8080/"
    },
    "id": "Dq29gbEpiPQq",
    "outputId": "9367500c-3286-435c-a962-14340bdd9a51"
   },
   "outputs": [],
   "source": [
    "20//3"
   ]
  },
  {
   "cell_type": "markdown",
   "id": "surface-recall",
   "metadata": {
    "id": "surface-recall"
   },
   "source": [
    "### DESAFÍO GENERICO"
   ]
  },
  {
   "cell_type": "code",
   "execution_count": null,
   "id": "8IWgzzIbb3rk",
   "metadata": {
    "colab": {
     "base_uri": "https://localhost:8080/"
    },
    "id": "8IWgzzIbb3rk",
    "outputId": "acc29a4e-daf6-4a96-fb20-713500fde232"
   },
   "outputs": [],
   "source": [
    "#esta forma es usando append, pero no es la única manera de hacerlo\n",
    "lista_original = [3, 1, 2, 3, 4, 5, 4, 6, 4,3]\n",
    "lista_sin_tres = []\n",
    "\n",
    "for x in lista_original:\n",
    "    if x != 3:\n",
    "        lista_sin_tres.append(x)\n",
    "\n",
    "print(lista_sin_tres)"
   ]
  },
  {
   "cell_type": "markdown",
   "id": "matched-corrections",
   "metadata": {
    "id": "matched-corrections"
   },
   "source": [
    "# FUNCIONES"
   ]
  },
  {
   "cell_type": "markdown",
   "id": "violent-cathedral",
   "metadata": {
    "id": "violent-cathedral"
   },
   "source": [
    "<code>def nombre(argumentos):\n",
    "    operaciones\n",
    "    return retorno</code>"
   ]
  },
  {
   "cell_type": "markdown",
   "id": "pleased-scottish",
   "metadata": {
    "id": "pleased-scottish"
   },
   "source": [
    "#### NOMBRES DE LAS FUNCIONES <br>\n",
    "Reglas:<br>\n",
    "- Sin espacios\n",
    "- No se pueden usar palabras reservadas\n",
    "\n",
    "Buenas prácticas:<br>\n",
    "- Descriptivo\n",
    "- Nombres compuestos capitalizados o sepados por _ (guion bajo o underscore), ejemplos:\n",
    "    - cuentaEnteros\n",
    "    - cuenta_enteros\n",
    "- Nombres cortos, máximo 4 palabras o 20 caracteres"
   ]
  },
  {
   "cell_type": "code",
   "execution_count": 36,
   "id": "logical-artwork",
   "metadata": {
    "id": "logical-artwork"
   },
   "outputs": [],
   "source": [
    "# DEFINICIÓN\n",
    "def my_function(): # No necesarimente se usan argumentos\n",
    "    print(\"Hello from a function\") # No necesariamente se usa un retorno"
   ]
  },
  {
   "cell_type": "code",
   "execution_count": null,
   "id": "raising-triple",
   "metadata": {
    "colab": {
     "base_uri": "https://localhost:8080/"
    },
    "id": "raising-triple",
    "outputId": "011daa94-3e7d-4d66-fa9f-79ffb0c5d290"
   },
   "outputs": [],
   "source": [
    "# LLAMAR o USAR\n",
    "my_function()"
   ]
  },
  {
   "cell_type": "code",
   "execution_count": 38,
   "id": "pretty-citizen",
   "metadata": {
    "id": "pretty-citizen"
   },
   "outputs": [],
   "source": [
    "def my_function(nombre):\n",
    "    print(nombre, \"es tutor de coderhouse\") # No necesariamente se usa un retorno"
   ]
  },
  {
   "cell_type": "code",
   "execution_count": null,
   "id": "quality-hartford",
   "metadata": {
    "colab": {
     "base_uri": "https://localhost:8080/"
    },
    "id": "quality-hartford",
    "outputId": "72808d3c-6261-4b66-85a1-cc56c72c97a3"
   },
   "outputs": [],
   "source": [
    "my_function(\"Germán\")\n",
    "my_function(\"Gustavo\")\n",
    "my_function(\"Jose\")"
   ]
  },
  {
   "cell_type": "code",
   "execution_count": null,
   "id": "interior-concert",
   "metadata": {
    "id": "interior-concert"
   },
   "outputs": [],
   "source": [
    "my_function(\"Omar\")"
   ]
  },
  {
   "cell_type": "markdown",
   "id": "secure-thesis",
   "metadata": {
    "id": "secure-thesis"
   },
   "source": [
    "## TIPOS DE DATOS"
   ]
  },
  {
   "cell_type": "markdown",
   "id": "complex-project",
   "metadata": {
    "id": "complex-project"
   },
   "source": [
    "Simples"
   ]
  },
  {
   "cell_type": "code",
   "execution_count": 41,
   "id": "informational-fountain",
   "metadata": {
    "id": "informational-fountain"
   },
   "outputs": [],
   "source": [
    "x = 1 # int o integer -- entero\n",
    "\n",
    "x = 1.0 # float o flotante -- decimales\n",
    "\n",
    "x = 1 + 2j # complex -- complejos, un componente real y otro imaginario\n",
    "\n",
    "x = True # bool o boolean -- booleano o lógico verdadero o falso\n",
    "\n",
    "x = 'abc' # str o string -- cadena de texto\n",
    "\n",
    "x = None # NoneType"
   ]
  },
  {
   "cell_type": "markdown",
   "id": "parliamentary-private",
   "metadata": {
    "id": "parliamentary-private"
   },
   "source": [
    "Estructurados"
   ]
  },
  {
   "cell_type": "code",
   "execution_count": null,
   "id": "backed-bubble",
   "metadata": {
    "colab": {
     "base_uri": "https://localhost:8080/"
    },
    "id": "backed-bubble",
    "outputId": "ccdbc643-9f2e-435a-b56a-1093c366fa51"
   },
   "outputs": [],
   "source": [
    "[1, 2, 3] # list -- Lista ordenada\n",
    "\n",
    "(1, 2, 3) # tuple -- tupla ordenada inmutable (no se puede cambiar)\n",
    "\n",
    "{'a':1, 'b':2, 'c':3} # dict -- Diccionario, conjunto de pares clave:valor\n",
    "\n",
    "{1, 2, 3} # set -- conjunto"
   ]
  },
  {
   "cell_type": "code",
   "execution_count": null,
   "id": "GRz793PHxCGV",
   "metadata": {
    "colab": {
     "base_uri": "https://localhost:8080/"
    },
    "id": "GRz793PHxCGV",
    "outputId": "1037e7d0-9468-40c4-ed3c-b3a5ba42b087"
   },
   "outputs": [],
   "source": [
    "# manera poco eficiente de generar una lista y elevar al cuadrado sus elementos, evitar este tipo de situaciones\n",
    "lista=[]\n",
    "lista_2=[]\n",
    "for i in range(10):\n",
    "    lista.append(i)\n",
    "for e in lista:\n",
    "    lista_2.append(e**2)\n",
    "lista_2\n"
   ]
  },
  {
   "cell_type": "code",
   "execution_count": null,
   "id": "C4bDjuEUxFIG",
   "metadata": {
    "colab": {
     "base_uri": "https://localhost:8080/"
    },
    "id": "C4bDjuEUxFIG",
    "outputId": "e1f39aee-a51e-4a00-8c14-d7a3f7f191c4"
   },
   "outputs": [],
   "source": [
    "# es el ejemplo anterior con un solo ciclo for, una forma más eficiente\n",
    "lista=[]\n",
    "for i in range(10):\n",
    "    lista.append(i**2)\n",
    "lista\n"
   ]
  },
  {
   "cell_type": "markdown",
   "id": "3972f173",
   "metadata": {},
   "source": [
    "Ejercicio 1) Construir una función que permita calcular el volumen de un cilindro, el programa debe permitir que el usuario pueda ingresar la altura y el radio, si uno de estos valores es negativo debe ser notificado por pantalla del error cometido.\n",
    "\n"
   ]
  },
  {
   "cell_type": "code",
   "execution_count": 1,
   "id": "858c6375",
   "metadata": {},
   "outputs": [
    {
     "name": "stdout",
     "output_type": "stream",
     "text": [
      "El volumen del cilindro es: 12164.25cm2\n"
     ]
    }
   ],
   "source": [
    "import numpy as np\n",
    "import math\n",
    "\n",
    "def Volumen_cilindro(x,y):\n",
    "    if x<0 or y<0: print(\"Error! Ha colocado un Número negativo!\")\n",
    "    else: \n",
    "        volumen= (math.pi * pow(x,2) *y)\n",
    "        print(f\"El volumen del cilindro es: {volumen:.2f}cm2\")\n",
    "        \n",
    "\n",
    "ZZ=Volumen_cilindro(44,2)"
   ]
  },
  {
   "cell_type": "markdown",
   "id": "0c4ca6fc",
   "metadata": {},
   "source": [
    "Ejercicio 2) Construir una función que permita convertir de °F (Fahrenheit)  a °C (Celsius)."
   ]
  },
  {
   "cell_type": "code",
   "execution_count": 4,
   "id": "e48e761e",
   "metadata": {},
   "outputs": [
    {
     "name": "stdout",
     "output_type": "stream",
     "text": [
      "273.00° Fahrenheit, representan 133.89° Celsius\n"
     ]
    }
   ],
   "source": [
    "import numpy as np\n",
    "\n",
    "def FahrenheitACelsius(x):\n",
    "    \n",
    "    Fahrenheit = x\n",
    "    Celsius = (x - 32) * 5/9\n",
    "    \n",
    "    print( f\"{Fahrenheit:.2f}° Fahrenheit, representan {Celsius:.2f}° Celsius\")\n",
    "\n",
    "\n",
    "Fahrenheit = 273\n",
    "\n",
    "Temperatura = FahrenheitACelsius(Fahrenheit)\n",
    "\n",
    "\n",
    "\n",
    "\n"
   ]
  },
  {
   "cell_type": "code",
   "execution_count": null,
   "id": "777ec608-677b-4bc4-92ec-423bf8f162a2",
   "metadata": {},
   "outputs": [],
   "source": []
  }
 ],
 "metadata": {
  "colab": {
   "provenance": []
  },
  "kernelspec": {
   "display_name": "Python 3 (ipykernel)",
   "language": "python",
   "name": "python3"
  },
  "language_info": {
   "codemirror_mode": {
    "name": "ipython",
    "version": 3
   },
   "file_extension": ".py",
   "mimetype": "text/x-python",
   "name": "python",
   "nbconvert_exporter": "python",
   "pygments_lexer": "ipython3",
   "version": "3.11.7"
  }
 },
 "nbformat": 4,
 "nbformat_minor": 5
}
