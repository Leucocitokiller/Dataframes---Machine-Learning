{
 "cells": [
  {
   "cell_type": "code",
   "execution_count": 76,
   "id": "bf02f786-2e82-4f72-b92c-963537eef1f9",
   "metadata": {},
   "outputs": [
    {
     "name": "stdout",
     "output_type": "stream",
     "text": [
      "Los días en que la acciones retrocedieron fueron: ['Miércoles', 'Sábado']\n"
     ]
    }
   ],
   "source": [
    "#Ejercicio de Practica: La lista de valores representan el precio de las acciones de una compania X de la semana pasada (cada dato representa un promedio diario)\n",
    "#Escribir el código para clacular los dias de la semana donde hubo un retroceso al dia anterior en el valor de la acción.\n",
    "import numpy as np\n",
    "\n",
    "Acciones = [200,225,232,221,243,256,255]\n",
    "Dias =['Lunes','Martes','Miércoles','Jueves','Viernes','Sábado','Domingo']\n",
    "Diferencias =np.diff(Acciones)\n",
    "\n",
    "Dias_retroceso=[]\n",
    "\n",
    "for x,y in zip(Dias,Diferencias):\n",
    "    if y < 0:\n",
    "        Dias_retroceso.append(x)\n",
    "\n",
    "print(\"Los días en que la acciones retrocedieron fueron:\",Dias_retroceso)\n",
    "\n",
    "\n",
    "\n",
    "\n"
   ]
  },
  {
   "cell_type": "code",
   "execution_count": 157,
   "id": "6cef8121-1f1b-4d3c-9999-d812732658d5",
   "metadata": {},
   "outputs": [
    {
     "name": "stdout",
     "output_type": "stream",
     "text": [
      "La ganancia esperada semanal del inversor seria de $ 2741.76\n",
      "([19.200000000000017, 21.600000000000037, 22.272000000000105, 21.216000000000008, 23.32800000000006, 24.576000000000064, 24.480000000000075], 156.67200000000037)\n"
     ]
    }
   ],
   "source": [
    "import numpy as np\n",
    "\n",
    "acciones = 20\n",
    "valor_acciones = [200,225,232,221,243,256,255]\n",
    "prob_ganancia= 0.56\n",
    "ganancia = 0.15\n",
    "perdida = 0.18\n",
    "prob_perdida =0.44\n",
    "\n",
    "ganancia_esperada=[]\n",
    "\n",
    "for x in (valor_acciones):\n",
    "        ganancia_esperada.append(x* 0.15*20*0.56)\n",
    "        ganancia_total = np.sum(ganancia_esperada)\n",
    "\n",
    "print (\"La ganancia esperada semanal del inversor seria de $\",ganancia_total)\n",
    "\n",
    "\n",
    "def retorno_semanal(a,b,c,d,e): \n",
    "    ganancia_probable =[]\n",
    "    \n",
    "    for x in (a):\n",
    "        ganancia_probable.append((((x * b * c)-(x * d * e)) * 20 ))\n",
    "    \n",
    "    ganancia_probable_total = np.sum(ganancia_probable)        # a= valor_acciones / b= prob_ganancias / c= ganancia / d=perdida / e=prob_perdida\n",
    "    \n",
    "    return ganancia_probable , ganancia_probable_total\n",
    "\n",
    "    \n",
    "sup= retorno_semanal(valor_acciones,prob_ganancia,ganancia,perdida,prob_perdida)\n",
    "\n",
    "print(sup)\n",
    "\n",
    "\n",
    "    "
   ]
  },
  {
   "cell_type": "code",
   "execution_count": null,
   "id": "e0aacf2e-0732-4b6b-97ef-4ecee4890272",
   "metadata": {},
   "outputs": [],
   "source": []
  },
  {
   "cell_type": "code",
   "execution_count": null,
   "id": "911fe924-2a4c-4a2a-aa77-d380e0832255",
   "metadata": {},
   "outputs": [],
   "source": []
  }
 ],
 "metadata": {
  "kernelspec": {
   "display_name": "Python 3 (ipykernel)",
   "language": "python",
   "name": "python3"
  },
  "language_info": {
   "codemirror_mode": {
    "name": "ipython",
    "version": 3
   },
   "file_extension": ".py",
   "mimetype": "text/x-python",
   "name": "python",
   "nbconvert_exporter": "python",
   "pygments_lexer": "ipython3",
   "version": "3.11.7"
  }
 },
 "nbformat": 4,
 "nbformat_minor": 5
}
